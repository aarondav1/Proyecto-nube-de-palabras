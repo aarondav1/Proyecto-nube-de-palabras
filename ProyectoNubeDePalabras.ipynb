{
  "nbformat": 4,
  "nbformat_minor": 0,
  "metadata": {
    "colab": {
      "name": "ProyectoNubeDePalabras.ipynb",
      "provenance": [],
      "collapsed_sections": [],
      "authorship_tag": "ABX9TyP8sr+O6Z3v+TEfRG2H+REp",
      "include_colab_link": true
    },
    "kernelspec": {
      "name": "python3",
      "display_name": "Python 3"
    }
  },
  "cells": [
    {
      "cell_type": "markdown",
      "metadata": {
        "id": "view-in-github",
        "colab_type": "text"
      },
      "source": [
        "<a href=\"https://colab.research.google.com/github/aarondav85/Proyecto-nube-de-palabras/blob/master/ProyectoNubeDePalabras.ipynb\" target=\"_parent\"><img src=\"https://colab.research.google.com/assets/colab-badge.svg\" alt=\"Open In Colab\"/></a>"
      ]
    },
    {
      "cell_type": "code",
      "metadata": {
        "id": "boEdOqgU4G5G",
        "colab_type": "code",
        "colab": {}
      },
      "source": [
        "from bs4 import BeautifulSoup\n",
        "import requests\n",
        "import urllib.request\n",
        "from wordcloud import  WordCloud, STOPWORDS\n",
        "import matplotlib.pyplot as plt\n",
        "\n",
        "url = 'https://es.stackoverflow.com/users/'\n",
        "\n",
        "id = input(\"Ingrese el ID de usuario: \")\n",
        "url = url + id +\"?tab=tags\"\n",
        "response = requests.get(url)\n",
        "soup = BeautifulSoup(response.content, 'html.parser')\n",
        "codigo= soup.find(\"div\", {\"class\":\"user-tab-content\"})\n",
        "datos = codigo.find_all('div', class_='answer-votes')\n",
        "print(\"Prueba de ejecucion\", url,'\\n')\n",
        "etiquetas = codigo.find_all('a', class_='post-tag')\n",
        "\"Los datos se guarda en formato html, para acceder a la info necesaria se pone agrega .text en caso de ser un numero se convierte con int(ejemplo.text)\"\n",
        "\n",
        "paginacion = soup.find(\"div\", {\"class\":\"s-pagination pager fr\"})\n",
        "\"Abajo surge error si el usuario no tiene etiquetas\"\n",
        "paginas = paginacion.find_all('a', class_='s-pagination--item js-pagination-item')\n",
        "\"Colocar excepcion\"\n",
        "numeroPaginas = len(paginas)\n",
        "if numeroPaginas > 1:\n",
        "\tfor x in range(2, numeroPaginas+1):\n",
        "\t\turl = url + \"&sort=votes&page=\" + str(x)\n",
        "\t\tresponse = requests.get(url)\n",
        "\t\tsoup = BeautifulSoup(response.content, 'html.parser')\n",
        "\t\tcodigo= soup.find(\"div\", {\"class\":\"user-tab-content\"})\n",
        "\t\tmasDatos = codigo.find_all('div', class_='answer-votes')\n",
        "\t\tmasTags = codigo.find_all('a', class_='post-tag')\n",
        "\t\tdatos = datos + masDatos\n",
        "\t\tetiquetas = etiquetas + masTags\n",
        "\t\tprint(\"Entro a: \"+ str(x) +\"paginas.\")\n",
        "\n",
        "\"Algoritmo para ordenar los datos(ordenacion por seleccion)\"\n",
        "\"Ya no es necesario\"\n",
        "i = 0\n",
        "while i < len(datos): \n",
        "\t\taux = int(datos[i].text)\n",
        "\t\tdataAux = datos[i]\n",
        "\t\tetiqAux = etiquetas[i]\n",
        "\t\tk = i\n",
        "\t\tj = i\n",
        "\t\twhile j<len(datos)-1:\n",
        "\t\t\tj = j+1\n",
        "\t\t\tif int(datos[j].text) > aux:\n",
        "\t\t\t\taux = int(datos[j].text)\n",
        "\t\t\t\tdataAux = datos[j]\n",
        "\t\t\t\tetiqAux = etiquetas[j]\n",
        "\t\t\t\tk = j\n",
        "\t\tdatos[k] = datos[i]\n",
        "\t\tdatos[i] = dataAux\n",
        "\t\tetiquetas[k] = etiquetas[i]\n",
        "\t\tetiquetas[i] = etiqAux\n",
        "\t\ti = i+1\n",
        "\"Fin del ordenamiento\"\n",
        "\n"
      ],
      "execution_count": null,
      "outputs": []
    },
    {
      "cell_type": "code",
      "metadata": {
        "id": "JbgZ8hrS3_J2",
        "colab_type": "code",
        "colab": {}
      },
      "source": [
        ""
      ],
      "execution_count": null,
      "outputs": []
    },
    {
      "cell_type": "code",
      "metadata": {
        "id": "C0a58er24EFY",
        "colab_type": "code",
        "colab": {}
      },
      "source": [
        ""
      ],
      "execution_count": null,
      "outputs": []
    }
  ]
}
